{
  "nbformat": 4,
  "nbformat_minor": 0,
  "metadata": {
    "colab": {
      "name": "Assignment_2.ipynb",
      "provenance": [],
      "authorship_tag": "ABX9TyMVIifqweVCGn+5Yo67X+uI",
      "include_colab_link": true
    },
    "kernelspec": {
      "name": "python3",
      "display_name": "Python 3"
    },
    "language_info": {
      "name": "python"
    }
  },
  "cells": [
    {
      "cell_type": "markdown",
      "metadata": {
        "id": "view-in-github",
        "colab_type": "text"
      },
      "source": [
        "<a href=\"https://colab.research.google.com/github/McahineLearning/Python_Basic_Assignment/blob/main/Assignment_2.ipynb\" target=\"_parent\"><img src=\"https://colab.research.google.com/assets/colab-badge.svg\" alt=\"Open In Colab\"/></a>"
      ]
    },
    {
      "cell_type": "code",
      "metadata": {
        "id": "dgBOMucDQt7G"
      },
      "source": [
        "1.What are the two values of the Boolean data type? How do you write them?\n",
        "\n",
        "->>True, False\n",
        "\n",
        "\n",
        "2. What are the three different types of Boolean operators?\n",
        "\n",
        "-->>AND, OR, NOT\n",
        "\n",
        "\n",
        "3. Make a list of each Boolean operator's truth tables \n",
        "   (i.e. every possible combination of Boolean values for the operator and what it evaluate ).\n",
        "\n",
        "\n",
        "4. What are the values of the following expressions?\n",
        "(5 > 4) and (3 == 5)\n",
        "not (5 > 4)\n",
        "(5 > 4) or (3 == 5)\n",
        "not ((5 > 4) or (3 == 5))\n",
        "(True and True) and (True == False)\n",
        "(not False) or (not True)\n",
        "\n",
        "\n",
        "->> False\n",
        "False\n",
        "True\n",
        "False\n",
        "False\n",
        "True\n",
        "\n",
        "5. What are the six comparison operators?\n",
        "\n",
        "->> > , < , >= , <= , === , and !==\n",
        "\n",
        "6. How do you tell the difference between the equal to and assignment operators?Describe a condition and when you would use one.\n",
        "\n",
        "->> equal to is used when we want to store something in a variable whereas the assignment operator is used when we want to put some thing inside a condition\n",
        "\n",
        "\n",
        "7. Identify the three blocks in this code:\n",
        "spam = 0\n",
        "if spam == 10: ---->> block 1\n",
        "print('eggs')\n",
        "if spam > 5: ---->>> block 2\n",
        "print('bacon')\n",
        "else: ------>>>> block 3\n",
        "print('ham')\n",
        "print('spam')\n",
        "print('spam')\n",
        "\n",
        "\n",
        "\n",
        "\n",
        "8. Write code that prints Hello if 1 is stored in spam, prints Howdy if 2 is stored in spam, and prints Greetings! if anything else is stored in spam.\n",
        "--->>\n",
        "\n",
        "spam = int(input('Enter Value :'))\n",
        "\n",
        "if spam == 1:\n",
        "  print('Hello')\n",
        "elif spam == 2:\n",
        "  print('Howdy')\n",
        "else:\n",
        "  print('Greetings')\n",
        "\n",
        "9.If your programme is stuck in an endless loop, what keys you’ll press?\n",
        "\n",
        "--->>> stop kernel(ctrl + m)\n",
        "\n",
        "10. How can you tell the difference between break and continue?\n",
        "\n",
        "-->> Break statements exist in Python to exit or “break” a for or while conditional loop.\n",
        "\n",
        "    The continue statement is used to skip code within a loop for certain iterations of the loop. \n",
        "    After the code is skipped, the loop continues where it left off. \n",
        "\n",
        "\n",
        "11. In a for loop, what is the difference between range(10), range(0, 10), and range(0, 10, 1)?\n",
        "\n",
        "-->>they all are the same in this case. But in the thrid CASE a step size is given whereas in the secoond case, a starting point is given\n",
        "\n",
        "12. Write a short program that prints the numbers 1 to 10 using a for loop. Then write an equivalent program that prints the numbers 1 to 10 using a while loop.\n",
        "\n",
        "->>> for i in range(10):\n",
        "          print(i)\n",
        "\n",
        " n =10\n",
        " i=0\n",
        " while i<n:\n",
        "      i=i+1\n",
        "      print (i)\n",
        "\n",
        "\n",
        "\n",
        "13. If you had a function named bacon() inside a module named spam, how would you call it after importing spam?\n",
        "\n",
        "-->> from mobile import bacon\n",
        "\n"
      ],
      "execution_count": null,
      "outputs": []
    },
    {
      "cell_type": "markdown",
      "metadata": {
        "id": "b6UG9AnDVtAT"
      },
      "source": [
        "#3. Make a list of each Boolean operator's truth tables \n",
        "   (i.e. every possible combination of Boolean values for the operator and what it evaluate )."
      ]
    },
    {
      "cell_type": "markdown",
      "metadata": {
        "id": "2ww87msNVxOW"
      },
      "source": [
        "<table style=\"width:100%\">\n",
        "  <tr>\n",
        "    <th>A</th>\n",
        "    <th>B</th>\n",
        "    <th>A AND B</th>\n",
        "    <th>A OR B</th>\n",
        "    <th>A NOT A</th>\n",
        "    <th> B NOT B</th>\n",
        "  </tr>\n",
        "  <tr>\n",
        "    <td>0</td>\n",
        "    <td>0</td>\n",
        "    <td>0</td>\n",
        "    <td>0</td>\n",
        "    <td>1</td>\n",
        "    <td>1</td>\n",
        "  </tr>\n",
        "  <tr>\n",
        "    <td>0</td>\n",
        "    <td>1</td>\n",
        "    <td>0</td>\n",
        "    <td>1</td>\n",
        "    <td>1</td>\n",
        "    <td>0</td>\n",
        "\n",
        "  </tr>\n",
        "   <tr>\n",
        "    <td>1</td>\n",
        "    <td>0</td>\n",
        "    <td>0</td>\n",
        "    <td>1</td>\n",
        "    <td>0</td>\n",
        "    <td>1</td>\n",
        "  </tr>\n",
        "   <tr>\n",
        "    <td>1</td>\n",
        "    <td>1</td>\n",
        "    <td>1</td>\n",
        "    <td>1</td>\n",
        "    <td>0</td>\n",
        "    <td>0</td>\n",
        "  </tr>\n",
        "</table>"
      ]
    },
    {
      "cell_type": "code",
      "metadata": {
        "id": "1-jmvJotRSj4"
      },
      "source": [
        ""
      ],
      "execution_count": 2,
      "outputs": []
    }
  ]
}