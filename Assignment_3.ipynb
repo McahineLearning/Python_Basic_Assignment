{
  "nbformat": 4,
  "nbformat_minor": 0,
  "metadata": {
    "colab": {
      "name": "Assignment_3.ipynb",
      "provenance": [],
      "collapsed_sections": [],
      "authorship_tag": "ABX9TyNb90IqeSjvmN4m8Rvt1G9W",
      "include_colab_link": true
    },
    "kernelspec": {
      "name": "python3",
      "display_name": "Python 3"
    },
    "language_info": {
      "name": "python"
    }
  },
  "cells": [
    {
      "cell_type": "markdown",
      "metadata": {
        "id": "view-in-github",
        "colab_type": "text"
      },
      "source": [
        "<a href=\"https://colab.research.google.com/github/McahineLearning/Python_Basic_Assignment/blob/main/Assignment_3.ipynb\" target=\"_parent\"><img src=\"https://colab.research.google.com/assets/colab-badge.svg\" alt=\"Open In Colab\"/></a>"
      ]
    },
    {
      "cell_type": "code",
      "metadata": {
        "id": "wczO013mNAR4"
      },
      "source": [
        "1. Why are functions advantageous to have in your programs?\n",
        "\n",
        "-->> becaue when creating a function, we clearly define what that function would do, so when we would need to do the same thing again, we won't need to wirte the same code again. \n",
        "Just call that function and the job would be done.\n",
        "\n",
        "\n",
        "2. When does the code in a function run: when it is specified or when it is called?\n",
        "\n",
        "->> called\n",
        "\n",
        "3. What statement creates a function?\n",
        "\n",
        "->> def function_name():\n",
        "\n",
        "\n",
        "4. What is the difference between a function and a function call?\n",
        "\n",
        "->> A function is when we create that function and a function call is when we call that function to do some operations.\n",
        "\n",
        "\n",
        "5. How many global scopes are there in a Python program? How many local scopes?\n",
        "\n",
        "->> There's only one global Python scope per program execution. This scope remains in existence until the program terminates and all its names are forgotten.\n",
        "    There can be 3 local scopes\n",
        "\n",
        "\n",
        "6. What happens to variables in a local scope when the function call returns?\n",
        "\n",
        "-->> A Local Variable Retains Its Value Until The Next Time The Function Is Called A Local Variable Becomes Undefined After The Function Call Completes The Local Variable Can Be Used Outside \n",
        "\n",
        "7. What is the concept of a return value? Is it possible to have a return value in an expression?\n",
        "\n",
        "->> A return value tells us what the funcction is returning to us. Suppose we have a function that adds two variables say a and b. \n",
        "It returns the sum which actually defiines the purpose of writting the function.\n",
        "No we cannot\n",
        "\n",
        "8. If a function does not have a return statement, what is the return value of a call to that function?\n",
        "\n",
        "->> None\n",
        "\n",
        "9. How do you make a function variable refer to the global variable?\n",
        "\n",
        "->> we define the variable first outside the function using the keyword global\n",
        "\n",
        "10. What is the data type of None?\n",
        "\n",
        "->>The None keyword is used to define a null value, or no value at all. None is not the same as 0, False, or an empty string. \n",
        "None is a data type of its own (NoneType) and only None can be None.\n",
        "\n",
        "11. What does the sentence import areallyourpetsnamederic do?\n",
        "\n",
        "-->> It is trying to import a module named areallyourpetsnamederic.\n",
        "\n",
        "12. If you had a bacon() feature in a spam module, what would you call it after importing spam?\n",
        "\n",
        "->> bacon\n",
        "\n",
        "13. What can you do to save a programme from crashing if it encounters an error?\n",
        "\n",
        "->> debug it regiularly\n",
        "\n",
        "14. What is the purpose of the try clause? What is the purpose of the except clause?\n",
        "\n",
        "\n",
        "->> they are extensively used in error handling.."
      ],
      "execution_count": null,
      "outputs": []
    },
    {
      "cell_type": "code",
      "metadata": {
        "id": "LBiAPhW2PNpe"
      },
      "source": [
        ""
      ],
      "execution_count": null,
      "outputs": []
    }
  ]
}