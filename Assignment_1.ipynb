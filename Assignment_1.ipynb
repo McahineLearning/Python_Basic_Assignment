{
  "nbformat": 4,
  "nbformat_minor": 0,
  "metadata": {
    "colab": {
      "name": "Assignment-1.ipynb",
      "provenance": [],
      "collapsed_sections": [],
      "authorship_tag": "ABX9TyMLQvVaYqNRqiWcuoDapewt",
      "include_colab_link": true
    },
    "kernelspec": {
      "name": "python3",
      "display_name": "Python 3"
    }
  },
  "cells": [
    {
      "cell_type": "markdown",
      "metadata": {
        "id": "view-in-github",
        "colab_type": "text"
      },
      "source": [
        "<a href=\"https://colab.research.google.com/github/McahineLearning/Python_Basic_Assignment/blob/main/Assignment_1.ipynb\" target=\"_parent\"><img src=\"https://colab.research.google.com/assets/colab-badge.svg\" alt=\"Open In Colab\"/></a>"
      ]
    },
    {
      "cell_type": "code",
      "metadata": {
        "id": "t2UVFYWFEeTW"
      },
      "source": [
        "1. What are the differences between operators and values in the following?\n",
        "\n",
        "\n",
        "* -> Multiplication operator\n",
        "'hello'-> String\n",
        "-87.8 -> Float\n",
        "- -> minus/ subtract operator\n",
        "/ -> division operator\n",
        "+ -> division operator\n",
        "6 -> integer\n"
      ],
      "execution_count": null,
      "outputs": []
    },
    {
      "cell_type": "code",
      "metadata": {
        "id": "5nIk0Ag9Fp4-"
      },
      "source": [
        "2. What is the difference between string and variable?\n",
        "\n",
        "\n",
        "spam -> it is a variable name. for example, we can store any values inside the variable spam\n",
        "'spam' -> it is a string, which means that it is a character\n"
      ],
      "execution_count": null,
      "outputs": []
    },
    {
      "cell_type": "code",
      "metadata": {
        "id": "u6BgTBtHFp7P"
      },
      "source": [
        "3. Describe three different data forms.\n",
        "\n",
        "-> The different types of data forms are:\n",
        "1. list - [] : a list is created by placing all the items (elements) inside square brackets [] , separated by commas. \n",
        "                  It can have any number of items and they may be of different types (integer, float, string etc.).\n",
        "\n",
        "2. dictionary - {}: it is a data type that can store key value pairs inside it\n",
        "\n",
        "3. tuple - ():  tuple are a class of data structure that can store one or more objects or values\n",
        "\n",
        "4. sets - Sets are used to store multiple items in a single variable.\n",
        "          {'ankan', 'datta', 28} is a set\n"
      ],
      "execution_count": null,
      "outputs": []
    },
    {
      "cell_type": "code",
      "metadata": {
        "id": "5wlRQOvWFp9e"
      },
      "source": [
        "4. What makes up an expression? What are the functions of all expressions?\n",
        "\n",
        "-> An expression is a combination of values, variables, operators, and calls to functions. Expressions need to be evaluated.\n"
      ],
      "execution_count": null,
      "outputs": []
    },
    {
      "cell_type": "code",
      "metadata": {
        "id": "F0kuFX-wFp_1"
      },
      "source": [
        "5. In this chapter, assignment statements such as spam = 10 were added. What's the difference between a declaration and an expression?\n",
        "\n",
        "->  spam = 10 is a decleration, spam = tryit() is an expression"
      ],
      "execution_count": null,
      "outputs": []
    },
    {
      "cell_type": "code",
      "metadata": {
        "id": "5GRBKL1YFqCA"
      },
      "source": [
        "6. After running the following code, what does the variable bacon contain?\n",
        "bacon = 22\n",
        "bacon + 1\n",
        "\n",
        "-> bacon = 23"
      ],
      "execution_count": null,
      "outputs": []
    },
    {
      "cell_type": "code",
      "metadata": {
        "id": "DcQxLGOkFqEF"
      },
      "source": [
        "\n",
        "7. What should the values of the following two terms be?\n",
        "\n",
        "'spam' + 'spamspam'\n",
        "spamspamspam\n",
        "'spam' * 3\n",
        "spamspamspam\n"
      ],
      "execution_count": null,
      "outputs": []
    },
    {
      "cell_type": "code",
      "metadata": {
        "id": "quoiKtaGFqII"
      },
      "source": [
        "8. Why is it that eggs is a true variable name but 100 is not?\n",
        "\n",
        "-> 100 is an int type character whereas eggs is not defined at first when we try to declare it. In python we cannot use integers as variable names."
      ],
      "execution_count": null,
      "outputs": []
    },
    {
      "cell_type": "code",
      "metadata": {
        "id": "JL1N00IfKhnO"
      },
      "source": [
        "9. Which of the following three functions may be used to convert a value to an integer, a floating-point number, or a string?\n",
        "\n",
        "-> int(), float(), str()"
      ],
      "execution_count": null,
      "outputs": []
    },
    {
      "cell_type": "code",
      "metadata": {
        "id": "brctzTE9Khpo"
      },
      "source": [
        "\n",
        "10. What is the error caused by this expression? What would you do about it?\n",
        "\n",
        "'I have eaten ' + 99 + ' burritos.'\n",
        "\n",
        "-> TypeError. We can change the 99 to '99'.\n"
      ],
      "execution_count": null,
      "outputs": []
    },
    {
      "cell_type": "code",
      "metadata": {
        "id": "a7jdjn1cKhys"
      },
      "source": [
        ""
      ],
      "execution_count": null,
      "outputs": []
    },
    {
      "cell_type": "code",
      "metadata": {
        "id": "S7mwxGqzKh1W"
      },
      "source": [
        ""
      ],
      "execution_count": null,
      "outputs": []
    }
  ]
}